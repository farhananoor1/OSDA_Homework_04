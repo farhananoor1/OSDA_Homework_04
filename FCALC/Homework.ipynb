{
 "cells": [
  {
   "cell_type": "code",
   "execution_count": 1,
   "metadata": {},
   "outputs": [],
   "source": [
    "import fcalc\n",
    "import pandas as pd\n",
    "import numpy as np\n",
    "from sklearn.model_selection import train_test_split\n",
    "from sklearn.metrics import accuracy_score, f1_score\n",
    "from sklearn.model_selection import cross_val_score"
   ]
  },
  {
   "cell_type": "markdown",
   "metadata": {},
   "source": [
    "# Breast Cancer Dataset"
   ]
  },
  {
   "cell_type": "code",
   "execution_count": 2,
   "metadata": {},
   "outputs": [],
   "source": [
    "data3 = pd.read_csv('Datasets/bcancer.csv')\n",
    "data3['diagnosis'] = [x == 'M' for x in data3['diagnosis']]\n",
    "\n",
    "data3['area_mean143_600'] = data3['area_mean'].apply(lambda x: 1 if 143 <= x <= 600.9 else 0)\n",
    "data3['area_mean601_1200'] = data3['area_mean'].apply(lambda x: 1 if 601 <= x <= 1200.9 else 0)\n",
    "data3['area_mean1201_1900'] = data3['area_mean'].apply(lambda x: 1 if 1201 <= x <= 1900.9 else 0)\n",
    "data3['area_mean1901_2502'] = data3['area_mean'].apply(lambda x: 1 if 1901 <= x <= 2501 else 0)\n",
    "\n",
    "\n",
    "data3['radius_mean6_14'] = data3['radius_mean'].apply(lambda x: 1 if 6.0 <= x <= 14.9 else 0)\n",
    "data3['radius_mean15_22'] = data3['radius_mean'].apply(lambda x: 1 if 15.0 <= x <= 22.9 else 0)\n",
    "data3['radius_mean23_29'] = data3['radius_mean'].apply(lambda x: 1 if 23.0 <= x <= 29.0 else 0)\n",
    "\n",
    "\n",
    "data3['texture_mean9_19'] = data3['texture_mean'].apply(lambda x: 1 if 9.71 <= x <= 19.9 else 0)\n",
    "data3['texture_mean20_29'] = data3['texture_mean'].apply(lambda x: 1 if 20.0 <= x <= 29.9 else 0)\n",
    "data3['texture_mean30_39'] = data3['texture_mean'].apply(lambda x: 1 if 30.0 <= x <= 39.28 else 0)\n",
    "\n",
    "data3['concavity_mean'] = data3['concavity_mean'].apply(lambda x: 1 if 0.0 <= x <= 0.22 else 0)\n",
    "data3['concavity_mean'] = data3['concavity_mean'].apply(lambda x: 1 if 0.23 <= x <= 0.42 else 0)\n",
    "\n",
    "bdata3 = data3.drop(['radius_mean', 'texture_mean', 'perimeter_mean',\n",
    "       'area_mean', 'smoothness_mean', 'compactness_mean', 'concavity_mean',\n",
    "       'concave points_mean', 'symmetry_mean', 'fractal_dimension_mean',\n",
    "       'radius_se', 'texture_se', 'perimeter_se', 'area_se', 'smoothness_se',\n",
    "       'compactness_se', 'concavity_se', 'concave points_se', 'symmetry_se',\n",
    "       'fractal_dimension_se', 'radius_worst', 'texture_worst',\n",
    "       'perimeter_worst', 'area_worst', 'smoothness_worst',\n",
    "       'compactness_worst', 'concavity_worst', 'concave points_worst',\n",
    "       'symmetry_worst', 'fractal_dimension_worst'], axis=1)\n",
    "\n"
   ]
  },
  {
   "cell_type": "code",
   "execution_count": 3,
   "metadata": {},
   "outputs": [],
   "source": [
    "x3 = bdata3.drop('diagnosis', axis=1)\n",
    "y3 = bdata3['diagnosis']\n",
    "\n",
    "x3_train, x3_test, y3_train, y3_test = train_test_split(x3, y3, test_size=0.3, random_state=42)"
   ]
  },
  {
   "cell_type": "code",
   "execution_count": 4,
   "metadata": {},
   "outputs": [],
   "source": [
    "# Binarized Binary Classifier\n",
    "\n",
    "bin_cls = fcalc.classifier.BinarizedBinaryClassifier(x3_train.values, y3_train.to_numpy(), method=\"standard\",  alpha=0)"
   ]
  },
  {
   "cell_type": "code",
   "execution_count": 5,
   "metadata": {},
   "outputs": [
    {
     "name": "stdout",
     "output_type": "stream",
     "text": [
      "[0. 1. 1. 0. 0. 1. 1. 1. 0. 0. 0. 1. 0. 1. 0. 1. 0. 0. 0. 1. 0. 0. 1. 0.\n",
      " 0. 0. 0. 0. 0. 1. 0. 0. 0. 0. 0. 0. 1. 0. 1. 0. 0. 1. 0. 0. 0. 0. 0. 0.\n",
      " 0. 0. 1. 1. 0. 0. 0. 0. 0. 1. 0. 0. 0. 1. 1. 0. 0. 0. 1. 1. 0. 0. 0. 1.\n",
      " 0. 1. 0. 0. 0. 0. 0. 0. 1. 0. 0. 1. 1. 1. 0. 1. 0. 0. 0. 0. 1. 0. 0. 0.\n",
      " 1. 0. 0. 1. 1. 0. 1. 1. 0. 0. 0. 0. 0. 0. 1. 0. 0. 1. 0. 1. 0. 0. 0. 0.\n",
      " 0. 0. 0. 1. 0. 1. 0. 0. 0. 1. 1. 1. 0. 0. 1. 1. 0. 0. 0. 0. 0. 1. 0. 0.\n",
      " 0. 0. 1. 1. 1. 0. 1. 0. 0. 0. 0. 1. 1. 0. 0. 0. 0. 0. 0. 0. 1. 0. 0. 0.\n",
      " 0. 0. 0.]\n"
     ]
    }
   ],
   "source": [
    "bin_cls.predict(x3_test.values)\n",
    "print(bin_cls.predictions)"
   ]
  },
  {
   "cell_type": "code",
   "execution_count": 6,
   "metadata": {},
   "outputs": [
    {
     "name": "stdout",
     "output_type": "stream",
     "text": [
      "0.9122807017543859\n",
      "0.8695652173913043\n"
     ]
    }
   ],
   "source": [
    "print(accuracy_score(y3_test, bin_cls.predictions))\n",
    "print(f1_score(y3_test, bin_cls.predictions))"
   ]
  },
  {
   "cell_type": "markdown",
   "metadata": {},
   "source": [
    "### Pattern Binary Classifier"
   ]
  },
  {
   "cell_type": "code",
   "execution_count": 7,
   "metadata": {},
   "outputs": [],
   "source": [
    "nbdata3 = pd.read_csv('Datasets/bcancer.csv')\n",
    "nbdata3['diagnosis'] = [x == 'M' for x in nbdata3['diagnosis']]\n",
    "\n",
    "x3 = nbdata3.drop('diagnosis', axis=1)\n",
    "y3 = nbdata3['diagnosis']\n",
    "\n",
    "x3_train, x3_test, y3_train, y3_test = train_test_split(x3, y3, test_size=0.3, random_state=42)"
   ]
  },
  {
   "cell_type": "code",
   "execution_count": 8,
   "metadata": {},
   "outputs": [],
   "source": [
    "# Pattern Binary Classifier\n",
    "pat_cls = fcalc.classifier.PatternBinaryClassifier(x3_train.values, y3_train.to_numpy(), \n",
    "                                             categorical=np.arange(x3_train.shape[1]), method=\"ratio-support\",  alpha=1)"
   ]
  },
  {
   "cell_type": "code",
   "execution_count": 10,
   "metadata": {},
   "outputs": [
    {
     "name": "stdout",
     "output_type": "stream",
     "text": [
      "[1. 0. 1. 1. 1. 1. 1. 0. 1. 0. 0. 1. 0. 1. 1. 1. 1. 1. 0. 0. 1. 0. 1. 1.\n",
      " 0. 1. 1. 0. 0. 1. 0. 1. 1. 0. 0. 1. 0. 1. 1. 0. 1. 1. 1. 1. 0. 0. 0. 0.\n",
      " 1. 1. 1. 1. 1. 1. 0. 1. 0. 1. 1. 0. 0. 1. 1. 1. 0. 0. 1. 1. 0. 1. 1. 1.\n",
      " 1. 1. 0. 0. 1. 0. 0. 0. 1. 1. 1. 0. 1. 1. 1. 1. 0. 0. 1. 1. 0. 0. 1. 1.\n",
      " 0. 0. 0. 1. 1. 0. 1. 1. 1. 0. 1. 0. 1. 0. 1. 0. 1. 1. 0. 1. 0. 0. 0. 1.\n",
      " 0. 1. 0. 1. 0. 1. 0. 0. 0. 1. 1. 1. 0. 0. 1. 1. 0. 1. 1. 0. 0. 1. 0. 1.\n",
      " 0. 0. 1. 1. 1. 1. 1. 1. 0. 0. 0. 0. 1. 0. 1. 0. 0. 1. 1. 1. 1. 1. 1. 1.\n",
      " 1. 0. 0.]\n"
     ]
    }
   ],
   "source": [
    "pat_cls.predict(x3_test.values)\n",
    "print(pat_cls.predictions)"
   ]
  },
  {
   "cell_type": "code",
   "execution_count": 11,
   "metadata": {},
   "outputs": [
    {
     "name": "stdout",
     "output_type": "stream",
     "text": [
      "0.6257309941520468\n",
      "0.6246913580246914\n"
     ]
    }
   ],
   "source": [
    "print(accuracy_score(y3_test, pat_cls.predictions))\n",
    "print(f1_score(y3_test, pat_cls.predictions, average = 'macro'))"
   ]
  }
 ],
 "metadata": {
  "kernelspec": {
   "display_name": "Python 3 (ipykernel)",
   "language": "python",
   "name": "python3"
  },
  "language_info": {
   "codemirror_mode": {
    "name": "ipython",
    "version": 3
   },
   "file_extension": ".py",
   "mimetype": "text/x-python",
   "name": "python",
   "nbconvert_exporter": "python",
   "pygments_lexer": "ipython3",
   "version": "3.10.11"
  }
 },
 "nbformat": 4,
 "nbformat_minor": 2
}
